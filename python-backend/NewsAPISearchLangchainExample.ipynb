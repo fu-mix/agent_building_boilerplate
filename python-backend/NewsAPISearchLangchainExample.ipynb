{
 "cells": [
  {
   "cell_type": "code",
   "execution_count": 2,
   "metadata": {},
   "outputs": [
    {
     "name": "stdout",
     "output_type": "stream",
     "text": [
      "Requirement already satisfied: langchain in /opt/homebrew/lib/python3.11/site-packages (0.3.17)\n",
      "Requirement already satisfied: PyYAML>=5.3 in /opt/homebrew/lib/python3.11/site-packages (from langchain) (6.0.1)\n",
      "Requirement already satisfied: SQLAlchemy<3,>=1.4 in /opt/homebrew/lib/python3.11/site-packages (from langchain) (2.0.32)\n",
      "Requirement already satisfied: aiohttp<4.0.0,>=3.8.3 in /opt/homebrew/lib/python3.11/site-packages (from langchain) (3.9.1)\n",
      "Requirement already satisfied: langchain-core<0.4.0,>=0.3.33 in /opt/homebrew/lib/python3.11/site-packages (from langchain) (0.3.33)\n",
      "Requirement already satisfied: langchain-text-splitters<0.4.0,>=0.3.3 in /opt/homebrew/lib/python3.11/site-packages (from langchain) (0.3.5)\n",
      "Requirement already satisfied: langsmith<0.4,>=0.1.17 in /opt/homebrew/lib/python3.11/site-packages (from langchain) (0.3.5)\n",
      "Requirement already satisfied: numpy<2,>=1.22.4 in /opt/homebrew/lib/python3.11/site-packages (from langchain) (1.26.3)\n",
      "Requirement already satisfied: pydantic<3.0.0,>=2.7.4 in /opt/homebrew/lib/python3.11/site-packages (from langchain) (2.10.5)\n",
      "Requirement already satisfied: requests<3,>=2 in /opt/homebrew/lib/python3.11/site-packages (from langchain) (2.31.0)\n",
      "Requirement already satisfied: tenacity!=8.4.0,<10,>=8.1.0 in /opt/homebrew/lib/python3.11/site-packages (from langchain) (8.2.3)\n",
      "Requirement already satisfied: attrs>=17.3.0 in /opt/homebrew/lib/python3.11/site-packages (from aiohttp<4.0.0,>=3.8.3->langchain) (23.2.0)\n",
      "Requirement already satisfied: multidict<7.0,>=4.5 in /opt/homebrew/lib/python3.11/site-packages (from aiohttp<4.0.0,>=3.8.3->langchain) (6.0.4)\n",
      "Requirement already satisfied: yarl<2.0,>=1.0 in /opt/homebrew/lib/python3.11/site-packages (from aiohttp<4.0.0,>=3.8.3->langchain) (1.9.4)\n",
      "Requirement already satisfied: frozenlist>=1.1.1 in /opt/homebrew/lib/python3.11/site-packages (from aiohttp<4.0.0,>=3.8.3->langchain) (1.4.1)\n",
      "Requirement already satisfied: aiosignal>=1.1.2 in /opt/homebrew/lib/python3.11/site-packages (from aiohttp<4.0.0,>=3.8.3->langchain) (1.3.1)\n",
      "Requirement already satisfied: jsonpatch<2.0,>=1.33 in /opt/homebrew/lib/python3.11/site-packages (from langchain-core<0.4.0,>=0.3.33->langchain) (1.33)\n",
      "Requirement already satisfied: packaging<25,>=23.2 in /opt/homebrew/lib/python3.11/site-packages (from langchain-core<0.4.0,>=0.3.33->langchain) (24.0)\n",
      "Requirement already satisfied: typing-extensions>=4.7 in /opt/homebrew/lib/python3.11/site-packages (from langchain-core<0.4.0,>=0.3.33->langchain) (4.12.2)\n",
      "Requirement already satisfied: httpx<1,>=0.23.0 in /opt/homebrew/lib/python3.11/site-packages (from langsmith<0.4,>=0.1.17->langchain) (0.28.1)\n",
      "Requirement already satisfied: orjson<4.0.0,>=3.9.14 in /opt/homebrew/lib/python3.11/site-packages (from langsmith<0.4,>=0.1.17->langchain) (3.10.15)\n",
      "Requirement already satisfied: requests-toolbelt<2.0.0,>=1.0.0 in /opt/homebrew/lib/python3.11/site-packages (from langsmith<0.4,>=0.1.17->langchain) (1.0.0)\n",
      "Requirement already satisfied: zstandard<0.24.0,>=0.23.0 in /opt/homebrew/lib/python3.11/site-packages (from langsmith<0.4,>=0.1.17->langchain) (0.23.0)\n",
      "Requirement already satisfied: annotated-types>=0.6.0 in /opt/homebrew/lib/python3.11/site-packages (from pydantic<3.0.0,>=2.7.4->langchain) (0.7.0)\n",
      "Requirement already satisfied: pydantic-core==2.27.2 in /opt/homebrew/lib/python3.11/site-packages (from pydantic<3.0.0,>=2.7.4->langchain) (2.27.2)\n",
      "Requirement already satisfied: charset-normalizer<4,>=2 in /opt/homebrew/lib/python3.11/site-packages (from requests<3,>=2->langchain) (3.3.2)\n",
      "Requirement already satisfied: idna<4,>=2.5 in /opt/homebrew/lib/python3.11/site-packages (from requests<3,>=2->langchain) (3.10)\n",
      "Requirement already satisfied: urllib3<3,>=1.21.1 in /opt/homebrew/lib/python3.11/site-packages (from requests<3,>=2->langchain) (2.1.0)\n",
      "Requirement already satisfied: certifi>=2017.4.17 in /opt/homebrew/lib/python3.11/site-packages (from requests<3,>=2->langchain) (2024.12.14)\n",
      "Requirement already satisfied: anyio in /opt/homebrew/lib/python3.11/site-packages (from httpx<1,>=0.23.0->langsmith<0.4,>=0.1.17->langchain) (4.8.0)\n",
      "Requirement already satisfied: httpcore==1.* in /opt/homebrew/lib/python3.11/site-packages (from httpx<1,>=0.23.0->langsmith<0.4,>=0.1.17->langchain) (1.0.7)\n",
      "Requirement already satisfied: h11<0.15,>=0.13 in /opt/homebrew/lib/python3.11/site-packages (from httpcore==1.*->httpx<1,>=0.23.0->langsmith<0.4,>=0.1.17->langchain) (0.14.0)\n",
      "Requirement already satisfied: jsonpointer>=1.9 in /opt/homebrew/lib/python3.11/site-packages (from jsonpatch<2.0,>=1.33->langchain-core<0.4.0,>=0.3.33->langchain) (3.0.0)\n",
      "Requirement already satisfied: sniffio>=1.1 in /opt/homebrew/lib/python3.11/site-packages (from anyio->httpx<1,>=0.23.0->langsmith<0.4,>=0.1.17->langchain) (1.3.1)\n",
      "\n",
      "\u001b[1m[\u001b[0m\u001b[34;49mnotice\u001b[0m\u001b[1;39;49m]\u001b[0m\u001b[39;49m A new release of pip is available: \u001b[0m\u001b[31;49m24.2\u001b[0m\u001b[39;49m -> \u001b[0m\u001b[32;49m25.0\u001b[0m\n",
      "\u001b[1m[\u001b[0m\u001b[34;49mnotice\u001b[0m\u001b[1;39;49m]\u001b[0m\u001b[39;49m To update, run: \u001b[0m\u001b[32;49mpython3.11 -m pip install --upgrade pip\u001b[0m\n"
     ]
    }
   ],
   "source": [
    "!pip install langchain"
   ]
  },
  {
   "cell_type": "code",
   "execution_count": 3,
   "metadata": {},
   "outputs": [
    {
     "name": "stderr",
     "output_type": "stream",
     "text": [
      "/var/folders/r7/vdpmjwm55fl4_ys4dmdzv2jc0000gn/T/ipykernel_40627/480343525.py:18: LangChainDeprecationWarning: The class `OpenAI` was deprecated in LangChain 0.0.10 and will be removed in 1.0. An updated version of the class exists in the :class:`~langchain-openai package and should be used instead. To use it run `pip install -U :class:`~langchain-openai` and import as `from :class:`~langchain_openai import OpenAI``.\n",
      "  llm = OpenAI(temperature=0, openai_api_key=OPENAI_API_KEY)\n"
     ]
    }
   ],
   "source": [
    "import os\n",
    "import json\n",
    "import requests\n",
    "from langchain.llms import OpenAI\n",
    "from langchain.chains import LLMChain, SequentialChain\n",
    "from langchain.prompts import PromptTemplate\n",
    "\n",
    "# Set up your API keys (ensure these are available in your environment)\n",
    "OPENAI_API_KEY = os.getenv(\"OPENAI_API_KEY\")\n",
    "NEWSAPI_KEY = os.getenv(\"NEWSAPI_KEY\")\n",
    "\n",
    "if not OPENAI_API_KEY:\n",
    "    raise ValueError(\"Please set the OPENAI_API_KEY environment variable\")\n",
    "if not NEWSAPI_KEY:\n",
    "    raise ValueError(\"Please set the NEWSAPI_KEY environment variable\")\n",
    "\n",
    "# Instantiate the OpenAI LLM (you can adjust temperature and other parameters as needed)\n",
    "llm = OpenAI(temperature=0, openai_api_key=OPENAI_API_KEY)\n",
    "\n"
   ]
  },
  {
   "cell_type": "code",
   "execution_count": 4,
   "metadata": {},
   "outputs": [
    {
     "name": "stderr",
     "output_type": "stream",
     "text": [
      "/var/folders/r7/vdpmjwm55fl4_ys4dmdzv2jc0000gn/T/ipykernel_40627/4017695253.py:20: LangChainDeprecationWarning: The class `LLMChain` was deprecated in LangChain 0.1.17 and will be removed in 1.0. Use :meth:`~RunnableSequence, e.g., `prompt | llm`` instead.\n",
      "  sql_chain = LLMChain(llm=llm, prompt=sql_prompt, output_key=\"sql_query\")\n"
     ]
    }
   ],
   "source": [
    "# -----------------------------------------------\n",
    "# Tool 1: Convert user question into SQL-like search query\n",
    "# -----------------------------------------------\n",
    "sql_prompt_template = \"\"\"You are an assistant that converts natural language questions into SQL-like queries for searching news articles.\n",
    "Assume the articles database has a table named \"articles\" with a column \"content\".\n",
    "For example, if given the question \"What is happening with climate change in Europe?\" \n",
    "you might output: \n",
    "    SELECT * FROM articles WHERE content LIKE '%climate change%' AND content LIKE '%Europe%';\n",
    "    \n",
    "Now convert the following question into a SQL-like query. Only output the SQL query.\n",
    "\n",
    "Question: {question}\n",
    "SQL Query:\"\"\"\n",
    "\n",
    "sql_prompt = PromptTemplate(\n",
    "    input_variables=[\"question\"],\n",
    "    template=sql_prompt_template,\n",
    ")\n",
    "\n",
    "sql_chain = LLMChain(llm=llm, prompt=sql_prompt, output_key=\"sql_query\")\n",
    "\n",
    "# -----------------------------------------------\n",
    "# Tool 2: Run the NewsAPI search using the SQL-like query\n",
    "# -----------------------------------------------\n",
    "def search_newsapi(sql_query: str) -> dict:\n",
    "    \"\"\"\n",
    "    A simple function that interprets a SQL-like query by extracting keywords\n",
    "    and then querying the NewsAPI 'everything' endpoint.\n",
    "    \n",
    "    For simplicity, this example extracts words inside LIKE '%...%' clauses.\n",
    "    A production version would require a robust parser.\n",
    "    \"\"\"\n",
    "    import re\n",
    "    # Find all substrings inside LIKE '%...%'\n",
    "    keywords = re.findall(r\"LIKE\\s+'%([^%]+)%'\", sql_query, flags=re.IGNORECASE)\n",
    "    if not keywords:\n",
    "        raise ValueError(\"No keywords extracted from the SQL query.\")\n",
    "    \n",
    "    # Create a simple query string by joining keywords with AND logic.\n",
    "    # (NewsAPI uses a simple query parameter where space-separated words are 'AND'ed.)\n",
    "    query = \" \".join(keywords)\n",
    "    \n",
    "    print(f\"DEBUG: Extracted keywords: {keywords}\")\n",
    "    print(f\"DEBUG: Querying NewsAPI with: {query}\")\n",
    "    \n",
    "    url = \"https://newsapi.org/v2/everything\"\n",
    "    params = {\n",
    "        \"q\": query,\n",
    "        \"apiKey\": NEWSAPI_KEY,\n",
    "        \"language\": \"en\",\n",
    "        \"pageSize\": 5  # Limit the number of articles for brevity\n",
    "    }\n",
    "    \n",
    "    response = requests.get(url, params=params)\n",
    "    if response.status_code != 200:\n",
    "        raise ValueError(f\"NewsAPI request failed: {response.status_code}, {response.text}\")\n",
    "    \n",
    "    return response.json()\n",
    "\n",
    "# -----------------------------------------------\n",
    "# Tool 3: Summarize and format the news articles as Markdown\n",
    "# -----------------------------------------------\n",
    "summary_prompt_template = \"\"\"You are an assistant that summarizes news articles and formats the output as Markdown.\n",
    "You are provided with the following JSON data (from NewsAPI) that contains news articles.\n",
    "Please produce a succinct summary that includes:\n",
    "- A headline summary\n",
    "- A bullet list of the article titles (with links if available)\n",
    "- A brief conclusion.\n",
    "\n",
    "JSON Data:\n",
    "{news_json}\n",
    "\n",
    "Your Markdown formatted summary:\"\"\"\n",
    "\n",
    "summary_prompt = PromptTemplate(\n",
    "    input_variables=[\"news_json\"],\n",
    "    template=summary_prompt_template,\n",
    ")\n",
    "\n",
    "summary_chain = LLMChain(llm=llm, prompt=summary_prompt, output_key=\"markdown_summary\")\n",
    "\n",
    "# -----------------------------------------------\n",
    "# Combine everything in a main function\n",
    "# -----------------------------------------------\n",
    "def answer_user_question(question: str):\n",
    "    # 1. Convert the natural language question to a SQL-like query.\n",
    "    sql_result = sql_chain.run(question=question)\n",
    "    print(\"Generated SQL Query:\")\n",
    "    print(sql_result)\n",
    "    \n",
    "    # 2. Use the SQL-like query to search NewsAPI.\n",
    "    news_data = search_newsapi(sql_result)\n",
    "    # For debugging, you might print the raw JSON (formatted)\n",
    "    # print(json.dumps(news_data, indent=2))\n",
    "    \n",
    "    # 3. Summarize and format the news results as Markdown.\n",
    "    # We'll convert the news_data dict to a JSON string to pass to the LLM.\n",
    "    news_json_str = json.dumps(news_data, indent=2)\n",
    "    markdown_summary = summary_chain.run(news_json=news_json_str)\n",
    "    \n",
    "    return markdown_summary\n"
   ]
  },
  {
   "cell_type": "code",
   "execution_count": 5,
   "metadata": {},
   "outputs": [
    {
     "name": "stderr",
     "output_type": "stream",
     "text": [
      "/var/folders/r7/vdpmjwm55fl4_ys4dmdzv2jc0000gn/T/ipykernel_40627/4017695253.py:87: LangChainDeprecationWarning: The method `Chain.run` was deprecated in langchain 0.1.0 and will be removed in 1.0. Use :meth:`~invoke` instead.\n",
      "  sql_result = sql_chain.run(question=question)\n"
     ]
    },
    {
     "name": "stdout",
     "output_type": "stream",
     "text": [
      "Generated SQL Query:\n",
      " SELECT * FROM articles WHERE content LIKE '%trump%' AND content LIKE '%gaza%';\n",
      "DEBUG: Extracted keywords: ['trump', 'gaza']\n",
      "DEBUG: Querying NewsAPI with: trump gaza\n",
      "\n",
      "Final Markdown Summary:\n",
      "\n",
      "\n",
      "\n",
      "# Headline Summary:\n",
      "Trump proposes Egypt and Jordan take in Palestinians from Gaza, sparking controversy and accusations of ethnic cleansing.\n",
      "\n",
      "# Article Titles:\n",
      "- [Trump says he wants Egypt and Jordan to take in Palestinians from Gaza](https://www.bbc.com/news/articles/c07kpjyzgllo)\n",
      "- [Trump's Gaza plan will be seen as flying in face of international law](https://www.bbc.com/news/articles/c9w5q8qn59yo)\n",
      "- [Anthony Zurcher: Real-estate instincts clash with America First worldview](https://www.bbc.com/news/articles/ce9nmm3nvdno)\n",
      "- [Israel has changed since Donald Trump's last term – has he?](https://www.bbc.com/news/articles/cgkjxlml42vo)\n",
      "- ['A long, long road ahead': Gaza rebuilds from zero](https://www.bbc.com/news/articles/cx2p916dngqo)\n",
      "\n",
      "# Conclusion:\n",
      "President Trump's proposal to have Egypt and Jordan take in Palestinians from Gaza has sparked controversy and accusations of ethnic cleansing. This is not the first time Trump has approached foreign policy with a real-estate mindset, and his actions in the Middle East have already had a significant impact. As displaced\n"
     ]
    }
   ],
   "source": [
    "# -----------------------------------------------\n",
    "# Example usage\n",
    "# -----------------------------------------------\n",
    "if __name__ == \"__main__\":\n",
    "    user_question = input(\"Enter your news-related question: \")\n",
    "    try:\n",
    "        markdown_output = answer_user_question(user_question)\n",
    "        print(\"\\nFinal Markdown Summary:\\n\")\n",
    "        print(markdown_output)\n",
    "    except Exception as e:\n",
    "        print(f\"Error: {e}\")"
   ]
  }
 ],
 "metadata": {
  "kernelspec": {
   "display_name": "Python 3",
   "language": "python",
   "name": "python3"
  },
  "language_info": {
   "codemirror_mode": {
    "name": "ipython",
    "version": 3
   },
   "file_extension": ".py",
   "mimetype": "text/x-python",
   "name": "python",
   "nbconvert_exporter": "python",
   "pygments_lexer": "ipython3",
   "version": "3.11.9"
  }
 },
 "nbformat": 4,
 "nbformat_minor": 2
}
